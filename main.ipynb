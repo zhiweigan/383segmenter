{
 "cells": [
  {
   "cell_type": "code",
   "execution_count": 1,
   "metadata": {
    "pycharm": {
     "is_executing": false
    }
   },
   "outputs": [
    {
     "name": "stderr",
     "text": [
      "music21: Certain music21 functions might need the optional package matplotlib;\n                  if you run into errors, install it by following the instructions at\n                  http://mit.edu/music21/doc/installing/installAdditional.html\n"
     ],
     "output_type": "stream"
    }
   ],
   "source": [
    "from music21 import *\n",
    "c = converter.parse('mozart.mxl')\n",
    "\n",
    "threshold = 0.8"
   ]
  },
  {
   "cell_type": "code",
   "execution_count": 2,
   "metadata": {
    "pycharm": {
     "is_executing": false,
     "name": "#%%\n"
    }
   },
   "outputs": [],
   "source": [
    "def compute_similarity(one: stream.Stream, two: stream.Stream, numBars: int = 2, numQuarters: int = 4):\n",
    "    # check if part was changed for each note\n",
    "    # check if transposed\n",
    "    # check if there are added notes\n",
    "    oneChordify = one.chordify(addPartIdAsGroup=True, removeRedundantPitches=False)\n",
    "    twoChordify = two.chordify(addPartIdAsGroup=True, removeRedundantPitches=False)\n",
    "    \n",
    "    offInt = 4\n",
    "    total = 0\n",
    "    intv = 0\n",
    "    totalSame = 0\n",
    "    partDiff = False\n",
    "    \n",
    "    for i in range(4 * offInt * numBars):\n",
    "        chord1 = oneChordify.flat.getElementAtOrBefore(i / offInt)\n",
    "        chord2 = twoChordify.flat.getElementAtOrBefore(i / offInt)\n",
    "        \n",
    "        if type(chord1) != chord.Chord:\n",
    "            continue\n",
    "        if type(chord2) != chord.Chord:\n",
    "            continue\n",
    "        \n",
    "        notes1 = chord1.notes\n",
    "        notes2 = chord2.notes\n",
    "        \n",
    "        minlen = min(len(notes1), len(notes2))\n",
    "        \n",
    "        for j in range(minlen):\n",
    "            same = True\n",
    "            transposed = True\n",
    "            if notes1[j].pitch.ps != notes2[j].pitch.ps:\n",
    "                same = False\n",
    "                if intv != 0:\n",
    "                    if intv != interval.Interval(noteStart=notes1[j], noteEnd=notes2[j]):\n",
    "                        transposed = False\n",
    "                else:        \n",
    "                    intv = interval.Interval(noteStart=notes1[j], noteEnd=notes2[j])\n",
    "            elif len(notes1[j].groups) > 0 and len(notes2[j].groups) > 0 \\\n",
    "                and notes1[j].groups[0] != notes2[j].groups[0]:\n",
    "                partDiff = True   \n",
    "                \n",
    "            if same or transposed:\n",
    "                totalSame += 1\n",
    "            total += 1\n",
    "            \n",
    "    return {'s': totalSame / total, 'p': partDiff}"
   ]
  },
  {
   "cell_type": "code",
   "execution_count": 3,
   "metadata": {
    "pycharm": {
     "is_executing": false,
     "name": "#%%\n"
    }
   },
   "outputs": [],
   "source": [
    "def find_similar(one: stream.Stream, score: stream.Stream, numMeasures, motifIdx, pastChecked, currentMeasure):\n",
    "    checkedMeasures = [0] * numMeasures\n",
    "    \n",
    "    for i in range(currentMeasure + 1, numMeasures - 1):\n",
    "        if i == 0:\n",
    "            continue\n",
    "        \n",
    "        two = score.measures(i, i+1)\n",
    "        sim = compute_similarity(one, two, 2, score.getTimeSignatures()[0].barDuration.quarterLength)\n",
    "         \n",
    "        if sim['s'] > threshold and pastChecked[i] == 0:\n",
    "            return i\n",
    "    \n",
    "    return -1"
   ]
  },
  {
   "cell_type": "code",
   "execution_count": 4,
   "metadata": {
    "pycharm": {
     "is_executing": false
    }
   },
   "outputs": [],
   "source": [
    "def extend(score: stream.Stream, oneNum, twoNum, offsetNum, motifIdx):    \n",
    "    m1 = score.measure(oneNum + offsetNum)\n",
    "    m2 = score.measure(twoNum + offsetNum)\n",
    "    \n",
    "    sim = compute_similarity(m1, m2, 1, score.getTimeSignatures()[0].barDuration.quarterLength)\n",
    "    \n",
    "    if sim['s'] > threshold:\n",
    "        return True\n",
    "    \n",
    "    return False\n",
    "    \n",
    "    "
   ]
  },
  {
   "cell_type": "code",
   "execution_count": 5,
   "metadata": {
    "pycharm": {
     "is_executing": false,
     "name": "#%%\n"
    }
   },
   "outputs": [],
   "source": [
    "def find_motifs_2_bar (score: stream.Stream):\n",
    "    numMeasures = len(score.parts[0])\n",
    "    checkedMeasures = [0] * numMeasures\n",
    "    print(\"number of measures: \", numMeasures)\n",
    "    \n",
    "    motifIdx = 1\n",
    "    for i in range(0, numMeasures-1):\n",
    "        if i == 0:\n",
    "            continue\n",
    "        print(i)\n",
    "        if checkedMeasures[i] == 0:\n",
    "            measureSlice = score.measures(i, i+1)\n",
    "            motifLoc = find_similar(measureSlice, score, numMeasures, motifIdx, checkedMeasures, i)\n",
    "            \n",
    "            offset = 2\n",
    "            if motifLoc > 0:\n",
    "                checkedMeasures[motifLoc] = motifIdx\n",
    "                checkedMeasures[motifLoc+1] = motifIdx\n",
    "                while extend(score, i, motifLoc, offset, motifIdx):\n",
    "                    if checkedMeasures[i + offset] != 0 or checkedMeasures[motifLoc + offset] != 0:\n",
    "                        break\n",
    "                    checkedMeasures[i + offset] = motifIdx\n",
    "                    checkedMeasures[motifLoc + offset] = motifIdx\n",
    "                    offset += 1\n",
    "                    \n",
    "            \n",
    "            checkedMeasures[i] = motifIdx\n",
    "            checkedMeasures[i+1] = motifIdx\n",
    "            \n",
    "            motifIdx += 1\n",
    "    \n",
    "    return checkedMeasures"
   ]
  },
  {
   "cell_type": "code",
   "execution_count": 6,
   "metadata": {
    "pycharm": {
     "is_executing": false
    }
   },
   "outputs": [
    {
     "name": "stdout",
     "text": [
      "number of measures:  129\n1\n",
      "2\n3\n4\n5\n6\n7\n8\n",
      "9\n10\n11\n12\n13\n14\n15\n16\n17\n18\n19\n20\n21\n",
      "22\n23\n24\n25\n26\n27\n28\n29\n30\n31\n32\n33\n",
      "34\n35\n",
      "36\n37\n38\n39\n",
      "40\n41\n42\n43\n44\n45\n",
      "46\n47\n",
      "48\n49\n",
      "50\n51\n52\n53\n",
      "54\n55\n",
      "56\n57\n",
      "58\n59\n60\n",
      "61\n62\n63\n64\n",
      "65\n66\n",
      "67\n68\n69\n70\n71\n72\n73\n74\n75\n76\n77\n78\n79\n80\n81\n",
      "82\n83\n84\n85\n86\n87\n88\n89\n90\n91\n92\n93\n94\n95\n96\n97\n98\n99\n100\n",
      "101\n102\n103\n104\n105\n106\n107\n108\n109\n",
      "110\n111\n",
      "112\n113\n",
      "114\n115\n",
      "116\n117\n",
      "118\n119\n",
      "120\n121\n",
      "122\n123\n",
      "124\n125\n126\n127\n[0, 1, 1, 1, 1, 2, 2, 2, 3, 3, 3, 3, 3, 3, 3, 3, 3, 1, 1, 1, 1, 4, 4, 4, 4, 4, 4, 4, 4, 4, 4, 4, 4, 5, 5, 6, 6, 5, 5, 7, 7, 8, 8, 8, 8, 9, 9, 10, 10, 11, 11, 6, 6, 12, 12, 13, 13, 14, 14, 14, 15, 15, 14, 14, 16, 16, 17, 17, 17, 18, 18, 18, 3, 3, 3, 3, 3, 3, 3, 3, 3, 19, 19, 17, 17, 4, 4, 4, 4, 4, 4, 4, 4, 4, 4, 4, 4, 20, 20, 20, 21, 21, 21, 22, 22, 22, 21, 21, 21, 23, 23, 24, 24, 25, 25, 26, 26, 27, 27, 28, 28, 29, 29, 30, 30, 30, 30, 31, 31]\n"
     ],
     "output_type": "stream"
    }
   ],
   "source": [
    "output = find_motifs_2_bar(c)\n",
    "print(output)"
   ]
  },
  {
   "cell_type": "code",
   "execution_count": 6,
   "metadata": {
    "pycharm": {
     "is_executing": false,
     "name": "#%%\n"
    }
   },
   "outputs": [],
   "source": []
  },
  {
   "cell_type": "code",
   "execution_count": 7,
   "metadata": {
    "pycharm": {
     "is_executing": false,
     "name": "#%%\n"
    }
   },
   "outputs": [],
   "source": [
    "out = [0, 1, 1, 1, 1, 2, 2, 3, 3, 3, 3, 3, 3, 3, 3, 3, 3, 3, 3, 1, 1, 4, 4, 4, 4, 4, 4, 4, 4, 4, 4, 4, 4, 5, 5, 6, 6, 6, 7, 7, 8, 8, 9, 9, 10, 10, 11, 11, 12, 12, 13, 13, 14, 14, 15, 15, 16, 16, 17, 17, 18, 18, 19, 19, 20, 20, 21, 21, 22, 22, 23, 23, 24, 24, 3, 3, 3, 3, 3, 3, 3, 3, 3, 25, 25, 26, 26, 4, 4, 4, 4, 4, 4, 4, 4, 4, 4, 27, 27, 28, 28, 28, 28, 29, 29, 30, 30, 28, 28, 31, 31, 32, 32, 33, 33, 34, 34, 35, 35, 36, 36, 37, 37, 38, 38, 39, 39, 40, 40]\n",
    "i = 0\n",
    "for measure in c.parts[0]:\n",
    "    if i == 0:\n",
    "        i += 1\n",
    "        continue\n",
    "#     measure[0].lyric = out[i]\n",
    "    if type(measure) == stream.Measure:\n",
    "        measure.getElementsByClass(['Note', 'Rest', 'Chord'])[0].lyric = out[i]\n",
    "#         measure.getElementsByClass(['Note', 'Rest', 'Chord'])[0].lyric = \"\"\n",
    "        \n",
    "    i += 1\n",
    "    "
   ]
  },
  {
   "cell_type": "code",
   "execution_count": 8,
   "metadata": {
    "pycharm": {
     "name": "#%%\n",
     "is_executing": false
    }
   },
   "outputs": [
    {
     "name": "stdout",
     "text": [
      "ABCABD\n"
     ],
     "output_type": "stream"
    }
   ],
   "source": [
    "bounds = [(0, 34), (35, 64), (65, 96), (97, 128)]\n",
    "segments = [set([])] * len(bounds)\n",
    "similar = {0:(0,34), 2:(65, 96)}\n",
    "\n",
    "for i in similar.keys():\n",
    "    for j in similar.keys():\n",
    "        if not i < j: continue\n",
    "\n",
    "        one = similar[i]\n",
    "        two = similar[j]\n",
    "\n",
    "        longchunks = []\n",
    "        currentChunk = out[0]\n",
    "        length = 0\n",
    "        for k in range(one[0], one[1]+1):\n",
    "            if length >= 8:\n",
    "                longchunks.append(out[k])\n",
    "            if out[k] == currentChunk:\n",
    "                length += 1\n",
    "            else:\n",
    "                length = 0\n",
    "                currentChunk = out[k]\n",
    "\n",
    "        chunknums = set([])\n",
    "        for k in range(two[0], two[1]+1):\n",
    "            if out[k] in longchunks:\n",
    "                chunknums.add(out[k])\n",
    "\n",
    "        segments[i] = segments[i].union(chunknums)\n",
    "        segments[j] = segments[j].union(chunknums)\n",
    "\n",
    "sectionmap = {}\n",
    "alphabet = \"ABCDEFGHJIJKLMNOPQRSTUVWXYZ\"\n",
    "output = \"\"\n",
    "iter = 0\n",
    "for se in segments:\n",
    "    if len(se) == 0:\n",
    "        output += alphabet[iter]\n",
    "        iter += 1\n",
    "    for elem in se:\n",
    "        if elem not in sectionmap:\n",
    "            sectionmap[elem] = alphabet[iter]\n",
    "            output += alphabet[iter]\n",
    "            iter += 1\n",
    "        else:\n",
    "            output += sectionmap[elem]\n",
    "\n",
    "print(output)\n",
    "\n",
    "\n"
   ]
  },
  {
   "cell_type": "code",
   "execution_count": 7,
   "metadata": {
    "pycharm": {
     "is_executing": false
    }
   },
   "outputs": [],
   "source": []
  }
 ],
 "metadata": {
  "kernelspec": {
   "name": "python3",
   "language": "python",
   "display_name": "Python 3"
  },
  "language_info": {
   "codemirror_mode": {
    "name": "ipython",
    "version": 3
   },
   "file_extension": ".py",
   "mimetype": "text/x-python",
   "name": "python",
   "nbconvert_exporter": "python",
   "pygments_lexer": "ipython3",
   "version": "3.8.5"
  },
  "pycharm": {
   "stem_cell": {
    "cell_type": "raw",
    "source": [],
    "metadata": {
     "collapsed": false
    }
   }
  }
 },
 "nbformat": 4,
 "nbformat_minor": 1
}